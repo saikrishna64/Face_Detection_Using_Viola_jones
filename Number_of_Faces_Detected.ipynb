{
 "cells": [
  {
   "cell_type": "code",
   "execution_count": 1,
   "id": "7894a3d8",
   "metadata": {},
   "outputs": [
    {
     "name": "stdout",
     "output_type": "stream",
     "text": [
      "[[341  56 153 153]\n",
      " [  4  67 142 142]\n",
      " [172  52 166 166]\n",
      " [527  67 151 151]]\n",
      "4\n"
     ]
    }
   ],
   "source": [
    "import numpy as np\n",
    "import cv2\n",
    "\n",
    "image = cv2.imread('./berkeley_faces.jpg')\n",
    "\n",
    "# Applying viola jones math which is in xml file to the image:\n",
    "\n",
    "model = cv2.CascadeClassifier('haarcascade_frontalface_default.xml')\n",
    "\n",
    "\n",
    "cordinates , no_of_faces = model.detectMultiScale2(image)\n",
    "print(cordinates)\n",
    "print(len(cordinates))\n",
    "if len(cordinates)>0:\n",
    "    for i in range(len(cordinates)):\n",
    "        sol = cordinates[i]\n",
    "        pt1 = (sol[0],sol[1])\n",
    "        pt2 = (sol[0]+sol[2], sol[1]+sol[3])\n",
    "        cv2.rectangle(image, pt1, pt2, (0,0,255))\n",
    "        \n",
    "else:\n",
    "    print('no faces detected')\n",
    "text = 'Number of faces are = ' + str(len(cordinates))\n",
    "font = cv2.FONT_HERSHEY_COMPLEX\n",
    "cv2.putText(image , text , (10 , 20) , font ,.5,(0,0,255) , 1)\n",
    "cv2.imshow('image', image)\n",
    "\n",
    "cv2.waitKey()\n",
    "cv2.destroyAllWindows()"
   ]
  },
  {
   "cell_type": "code",
   "execution_count": null,
   "id": "2df35c76",
   "metadata": {},
   "outputs": [],
   "source": []
  }
 ],
 "metadata": {
  "kernelspec": {
   "display_name": "Python 3 (ipykernel)",
   "language": "python",
   "name": "python3"
  },
  "language_info": {
   "codemirror_mode": {
    "name": "ipython",
    "version": 3
   },
   "file_extension": ".py",
   "mimetype": "text/x-python",
   "name": "python",
   "nbconvert_exporter": "python",
   "pygments_lexer": "ipython3",
   "version": "3.10.9"
  }
 },
 "nbformat": 4,
 "nbformat_minor": 5
}
