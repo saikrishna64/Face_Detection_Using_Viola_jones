{
 "cells": [
  {
   "cell_type": "code",
   "execution_count": 1,
   "id": "02a61091",
   "metadata": {},
   "outputs": [
    {
     "name": "stdout",
     "output_type": "stream",
     "text": [
      "[[ 89 150 274 274]]\n",
      "1\n"
     ]
    }
   ],
   "source": [
    "import numpy as np\n",
    "import cv2\n",
    "\n",
    "image = cv2.imread('./girl.png')\n",
    "\n",
    "# Applying viola jones math which is in xml file to the image:\n",
    "\n",
    "model = cv2.CascadeClassifier('haarcascade_frontalface_default.xml')\n",
    "\n",
    "\n",
    "cordinates , no_of_faces = model.detectMultiScale2(image)\n",
    "print(cordinates)\n",
    "print(len(no_of_faces))\n",
    "\n",
    "pt1 = (cordinates[0][0] , cordinates[0][1])\n",
    "pt2 = (cordinates[0][2] + cordinates[0][0] , cordinates[0][3] + cordinates[0][1])\n",
    "\n",
    "cv2.rectangle(image , pt1 , pt2 , (0,0,255) , 2)\n",
    "text = 'Number of faces are = ' + str(len(no_of_faces))\n",
    "font = cv2.FONT_HERSHEY_COMPLEX\n",
    "cv2.putText(image , text , (100 , 100) , font ,.5,(0,0,0) , 1)\n",
    "cv2.imshow('image', image)\n",
    "\n",
    "cv2.waitKey()\n",
    "cv2.destroyAllWindows()"
   ]
  },
  {
   "cell_type": "code",
   "execution_count": null,
   "id": "718e051b",
   "metadata": {},
   "outputs": [],
   "source": []
  }
 ],
 "metadata": {
  "kernelspec": {
   "display_name": "Python 3 (ipykernel)",
   "language": "python",
   "name": "python3"
  },
  "language_info": {
   "codemirror_mode": {
    "name": "ipython",
    "version": 3
   },
   "file_extension": ".py",
   "mimetype": "text/x-python",
   "name": "python",
   "nbconvert_exporter": "python",
   "pygments_lexer": "ipython3",
   "version": "3.10.9"
  }
 },
 "nbformat": 4,
 "nbformat_minor": 5
}
